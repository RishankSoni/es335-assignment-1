{
 "cells": [
  {
   "cell_type": "code",
   "execution_count": 4,
   "id": "ca48e53f",
   "metadata": {},
   "outputs": [
    {
     "name": "stderr",
     "output_type": "stream",
     "text": [
      "/var/folders/8m/kv3_bcpj5f57y7d020d51yjm0000gn/T/ipykernel_44807/331244628.py:14: FutureWarning: The 'delim_whitespace' keyword in pd.read_csv is deprecated and will be removed in a future version. Use ``sep='\\s+'`` instead\n",
      "  data = pd.read_csv(url, delim_whitespace=True, header=None,\n"
     ]
    }
   ],
   "source": [
    "import pandas as pd\n",
    "import numpy as np\n",
    "import matplotlib.pyplot as plt\n",
    "from tree.base import DecisionTree\n",
    "\n",
    "from metrics import *\n",
    "from sklearn.model_selection import train_test_split\n",
    "from sklearn.tree import DecisionTreeRegressor\n",
    "\n",
    "np.random.seed(42)\n",
    "\n",
    "# Reading the data\n",
    "url = 'https://archive.ics.uci.edu/ml/machine-learning-databases/auto-mpg/auto-mpg.data'\n",
    "data = pd.read_csv(url, delim_whitespace=True, header=None,\n",
    "                 names=[\"mpg\", \"cylinders\", \"displacement\", \"horsepower\", \"weight\",\n",
    "                        \"acceleration\", \"model year\", \"origin\", \"car name\"])\n",
    "\n",
    "# Clean the above data by removing redundant columns and rows with junk values\n",
    "# Compare the performance of your model with the decision tree module from scikit learn\n",
    "cleaned_data = data.replace('?', np.nan).dropna()\n",
    "cleaned_data['horsepower'] = cleaned_data['horsepower'].astype(float)\n",
    "cleaned_data = cleaned_data.drop(columns=['car name', 'origin', 'model year'])\n",
    "y = cleaned_data['mpg']\n",
    "X = cleaned_data.drop(columns=['mpg'])\n"
   ]
  },
  {
   "cell_type": "code",
   "execution_count": 6,
   "id": "d0642f15",
   "metadata": {},
   "outputs": [],
   "source": [
    "# Splitting the data into training and testing sets\n",
    "X_train, X_test, y_train, y_test = train_test_split(X, y, test_size=0.2, random_state=42)\n",
    "# Training the decision tree model\n",
    "model = DecisionTree(criterion='entropy', max_depth=5)"
   ]
  },
  {
   "cell_type": "code",
   "execution_count": null,
   "id": "9c003c62",
   "metadata": {},
   "outputs": [
    {
     "name": "stdout",
     "output_type": "stream",
     "text": [
      "Root Mean Squared Error: 9.182493224510532\n",
      "Mean Absolute Error: 7.681818181818182\n"
     ]
    }
   ],
   "source": [
    "model.fit(X_train, y_train)\n",
    "# Making predictions\n",
    "y_pred = model.predict(X_test)\n",
    "# Evaluating the model\n",
    "print(\"Root Mean Squared Error:\", rmse(y_pred, y_test))\n",
    "print(\"Mean Absolute Error:\", mae(y_pred, y_test))"
   ]
  },
  {
   "cell_type": "code",
   "execution_count": 3,
   "id": "be476bcc",
   "metadata": {},
   "outputs": [
    {
     "name": "stdout",
     "output_type": "stream",
     "text": [
      "Root Mean Squared Error (sklearn): 10.759684944706477\n",
      "Mean Absolute Error (sklearn): 8.985062941444518\n"
     ]
    }
   ],
   "source": [
    "# Comparing with sklearn\n",
    "sk_learn_model = DecisionTreeRegressor(max_depth=5, random_state=42)\n",
    "sk_learn_model.fit(X_train, y_train)\n",
    "y_pred_sklearn = sk_learn_model.predict(X_test)\n",
    "print(\"Root Mean Squared Error (sklearn):\", rmse(pd.Series(y_pred_sklearn), y_test))\n",
    "print(\"Mean Absolute Error (sklearn):\", mae(pd.Series(y_pred_sklearn), y_test))\n"
   ]
  }
 ],
 "metadata": {
  "kernelspec": {
   "display_name": "Python 3",
   "language": "python",
   "name": "python3"
  },
  "language_info": {
   "codemirror_mode": {
    "name": "ipython",
    "version": 3
   },
   "file_extension": ".py",
   "mimetype": "text/x-python",
   "name": "python",
   "nbconvert_exporter": "python",
   "pygments_lexer": "ipython3",
   "version": "3.10.18"
  }
 },
 "nbformat": 4,
 "nbformat_minor": 5
}
